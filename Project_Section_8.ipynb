{
 "cells": [
  {
   "cell_type": "code",
   "execution_count": null,
   "metadata": {},
   "outputs": [],
   "source": [
    "x = input(\"Enter a number\")\n",
    "x = int(x)\n",
    "if x == 10:\n",
    "    print(\"{} is equal to 10\".format(x))\n",
    "elif x > 10:\n",
    "    print(\"{} is greater than 10\".format(x))\n",
    "else:\n",
    "    print(\"{} is less than 10\".format(x))\n",
    "for x in range(x):\n",
    "    x = x + 1\n",
    "    print(x)\n",
    "    if x > 10:\n",
    "        print(\"{} is greater than 10\".format(x))"
   ]
  },
  {
   "cell_type": "code",
   "execution_count": null,
   "metadata": {},
   "outputs": [],
   "source": []
  }
 ],
 "metadata": {
  "kernelspec": {
   "display_name": "Python 3",
   "language": "python",
   "name": "python3"
  },
  "language_info": {
   "codemirror_mode": {
    "name": "ipython",
    "version": 3
   },
   "file_extension": ".py",
   "mimetype": "text/x-python",
   "name": "python",
   "nbconvert_exporter": "python",
   "pygments_lexer": "ipython3",
   "version": "3.8.5"
  }
 },
 "nbformat": 4,
 "nbformat_minor": 4
}
