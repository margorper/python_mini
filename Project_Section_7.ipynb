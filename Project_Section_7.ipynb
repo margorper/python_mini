{
 "cells": [
  {
   "cell_type": "code",
   "execution_count": null,
   "metadata": {},
   "outputs": [],
   "source": [
    "hungry = input(\"Are you hungry?\")\n",
    "if hungry in (\"Yes\", \"yes\", \"True\", \"true\"):\n",
    "    print(\"Get some food!\")\n",
    "elif hungry in (\"not right now\", \"not really\", \"maybe later\"):\n",
    "    print(\"Maybe later then...\")\n",
    "else:\n",
    "    print(\"Keep studying!\")"
   ]
  },
  {
   "cell_type": "code",
   "execution_count": null,
   "metadata": {},
   "outputs": [],
   "source": []
  }
 ],
 "metadata": {
  "kernelspec": {
   "display_name": "Python 3",
   "language": "python",
   "name": "python3"
  },
  "language_info": {
   "codemirror_mode": {
    "name": "ipython",
    "version": 3
   },
   "file_extension": ".py",
   "mimetype": "text/x-python",
   "name": "python",
   "nbconvert_exporter": "python",
   "pygments_lexer": "ipython3",
   "version": "3.8.5"
  }
 },
 "nbformat": 4,
 "nbformat_minor": 4
}
